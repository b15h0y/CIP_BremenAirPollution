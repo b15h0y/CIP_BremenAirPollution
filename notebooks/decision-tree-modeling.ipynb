{
 "cells": [
  {
   "cell_type": "code",
   "execution_count": 220,
   "metadata": {},
   "outputs": [],
   "source": [
    "import numpy as np\n",
    "import matplotlib.pyplot as plt\n",
    "import pandas as pd\n",
    "from sklearn.preprocessing import MinMaxScaler\n",
    "from sklearn.model_selection import train_test_split\n",
    "from sklearn.metrics import mean_squared_error\n",
    "from sklearn.decomposition import PCA\n",
    "from sklearn import svm\n",
    "from datetime import date, datetime\n",
    "from sklearn import tree\n",
    "import math"
   ]
  },
  {
   "cell_type": "code",
   "execution_count": 143,
   "metadata": {},
   "outputs": [],
   "source": [
    "data = np.array(pd.read_csv('../data/full_data.csv'))\n",
    "# data = data[data[:, 9] == 'DEHB001'][:,:9]\n",
    "data = data[:,:8] # remove the station code and pm2.5"
   ]
  },
  {
   "cell_type": "code",
   "execution_count": 157,
   "metadata": {},
   "outputs": [],
   "source": [
    "time, x_raw, y_raw = data[:, 0], np.delete(data, [0, 5], axis=1), data[:, [5]]\n",
    "# Time => Date,\n",
    "# X => PM10,NO2,NOx,NO,SO2,CO, # PM2.5 (removed in the cell)\n",
    "# Y => O3"
   ]
  },
  {
   "cell_type": "code",
   "execution_count": 158,
   "metadata": {},
   "outputs": [],
   "source": [
    "scaler_x = MinMaxScaler()\n",
    "x = scaler_x.fit_transform(x_raw)\n",
    "scaler_y = MinMaxScaler()\n",
    "y = scaler_y.fit_transform(y_raw)[:, 0]"
   ]
  },
  {
   "cell_type": "code",
   "execution_count": 159,
   "metadata": {},
   "outputs": [],
   "source": [
    "filter_mask = np.logical_and(np.logical_not(np.isnan(y)), np.logical_not(np.isnan(x).any(axis=1)))\n",
    "# x still contains nan! \n",
    "x = x[filter_mask]\n",
    "y = y[filter_mask]\n",
    "time = time[filter_mask]"
   ]
  },
  {
   "cell_type": "code",
   "execution_count": 160,
   "metadata": {},
   "outputs": [],
   "source": [
    "time_year = [int(datetime.fromtimestamp(t).strftime('%Y')) for t in time]\n",
    "time_month = [int(datetime.fromtimestamp(t).strftime('%m')) for t in time]\n",
    "time_day = [int(datetime.fromtimestamp(t).strftime('%d')) for t in time]\n",
    "time_hr = [int(datetime.fromtimestamp(t).strftime('%H')) for t in time]\n",
    "time_x = np.array([time_year, time_month, time_day, time_hr]).transpose()\n",
    "# time_x = np.reshape(time_x, (time_x.shape[1], time_x.shape[0]))"
   ]
  },
  {
   "cell_type": "code",
   "execution_count": 170,
   "metadata": {},
   "outputs": [],
   "source": [
    "x_all = np.concatenate((x, time_x), axis=1)"
   ]
  },
  {
   "cell_type": "code",
   "execution_count": 202,
   "metadata": {},
   "outputs": [
    {
     "data": {
      "text/plain": [
       "(244797, 10)"
      ]
     },
     "execution_count": 202,
     "metadata": {},
     "output_type": "execute_result"
    }
   ],
   "source": [
    "x_all.shape"
   ]
  },
  {
   "cell_type": "code",
   "execution_count": 215,
   "metadata": {},
   "outputs": [
    {
     "name": "stdout",
     "output_type": "stream",
     "text": [
      "[[-1.47880344e+01 -1.04801786e+01  5.55742625e+00 ... -2.14969072e-02\n",
      "  -3.20138947e-03  3.28190512e-02]\n",
      " [-1.47871170e+01 -9.48018616e+00  5.55675092e+00 ... -3.93596416e-02\n",
      "  -3.95093660e-03  9.68902619e-04]\n",
      " [-1.47862004e+01 -8.48018757e+00  5.55609225e+00 ... -5.32455304e-02\n",
      "  -2.50026754e-03 -4.63500738e-04]\n",
      " ...\n",
      " [ 1.52896980e+01  1.04875774e+01 -5.41566501e+00 ... -1.16764071e-02\n",
      "  -3.22166834e-03 -1.76318088e-03]\n",
      " [ 1.52906120e+01  1.14875924e+01 -5.41628775e+00 ... -7.56528110e-03\n",
      "  -6.40096069e-03 -1.44526488e-03]\n",
      " [-1.47874282e+01 -1.14776025e+01  5.42524625e+00 ... -1.64201837e-02\n",
      "  -4.58992139e-03 -4.49221544e-03]]\n"
     ]
    }
   ],
   "source": [
    "pca = PCA(n_components=8)\n",
    "x_low = pca.fit_transform(x_all)\n",
    "print(x_low)"
   ]
  },
  {
   "cell_type": "code",
   "execution_count": 216,
   "metadata": {},
   "outputs": [],
   "source": [
    "x_train, x_test, y_train, y_test = train_test_split(x_low, y)"
   ]
  },
  {
   "cell_type": "code",
   "execution_count": 217,
   "metadata": {},
   "outputs": [],
   "source": [
    "clf = tree.DecisionTreeRegressor()\n",
    "clf = clf.fit(x_train, y_train)"
   ]
  },
  {
   "cell_type": "code",
   "execution_count": 218,
   "metadata": {},
   "outputs": [
    {
     "data": {
      "text/plain": [
       "0.7986715493093973"
      ]
     },
     "execution_count": 218,
     "metadata": {},
     "output_type": "execute_result"
    }
   ],
   "source": [
    "clf.score(x_test, y_test)"
   ]
  },
  {
   "cell_type": "code",
   "execution_count": 181,
   "metadata": {},
   "outputs": [
    {
     "name": "stdout",
     "output_type": "stream",
     "text": [
      "0.0014651222555815016\n"
     ]
    }
   ],
   "source": [
    "y_predict = clf.predict(x_test)\n",
    "score = mean_squared_error(y_predict, y_test)\n",
    "print(score)"
   ]
  },
  {
   "cell_type": "code",
   "execution_count": 219,
   "metadata": {},
   "outputs": [
    {
     "name": "stdout",
     "output_type": "stream",
     "text": [
      "1.8990846614424616e-09\n"
     ]
    }
   ],
   "source": [
    "y_predict_train = clf.predict(x_train)\n",
    "score = mean_squared_error(y_predict_train, y_train)\n",
    "print(score)"
   ]
  },
  {
   "cell_type": "code",
   "execution_count": null,
   "metadata": {},
   "outputs": [],
   "source": []
  }
 ],
 "metadata": {
  "kernelspec": {
   "display_name": "Python 3",
   "language": "python",
   "name": "python3"
  },
  "language_info": {
   "codemirror_mode": {
    "name": "ipython",
    "version": 3
   },
   "file_extension": ".py",
   "mimetype": "text/x-python",
   "name": "python",
   "nbconvert_exporter": "python",
   "pygments_lexer": "ipython3",
   "version": "3.8.6"
  }
 },
 "nbformat": 4,
 "nbformat_minor": 4
}
